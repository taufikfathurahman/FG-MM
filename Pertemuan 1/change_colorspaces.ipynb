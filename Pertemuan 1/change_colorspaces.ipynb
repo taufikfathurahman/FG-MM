{
 "cells": [
  {
   "cell_type": "markdown",
   "metadata": {},
   "source": [
    "# Tugas 1 FG\n",
    "\n",
    "**TODO:**\n",
    "* Program konversi warna dari RGB ke HSV\n",
    "* Menampilkan Histogram"
   ]
  },
  {
   "cell_type": "code",
   "execution_count": 1,
   "metadata": {},
   "outputs": [],
   "source": [
    "# Import library\n",
    "import cv2\n",
    "from matplotlib import pyplot as plt"
   ]
  },
  {
   "cell_type": "code",
   "execution_count": 2,
   "metadata": {},
   "outputs": [],
   "source": [
    "def convertToHsv():\n",
    "    my_img = cv2.imread('My_Img.JPG', 1)\n",
    "\n",
    "    # Quit uising 'q' || 'Q'\n",
    "    my_hsv = cv2.cvtColor(my_img, cv2.COLOR_RGB2HSV)\n",
    "\n",
    "    # Memiskan gambar hsv\n",
    "    h, s, v = cv2.split(my_hsv)\n",
    "\n",
    "    return my_img, my_hsv, h, s, v"
   ]
  },
  {
   "cell_type": "code",
   "execution_count": 3,
   "metadata": {},
   "outputs": [],
   "source": [
    "def makeHsvHist(my_hsv):\n",
    "    hist = cv2.calcHist([my_hsv], [0, 1], None, [180, 256], [0, 180, 0, 256])\n",
    "    plt.plot(hist)\n",
    "    plt.show()"
   ]
  },
  {
   "cell_type": "code",
   "execution_count": 4,
   "metadata": {},
   "outputs": [],
   "source": [
    "def showImg(my_img, img_name):\n",
    "    cv2.namedWindow(img_name, cv2.WINDOW_NORMAL)\n",
    "    cv2.imshow(img_name,my_img)\n",
    "    cv2.waitKey(0)\n",
    "    cv2.destroyAllWindows()"
   ]
  },
  {
   "cell_type": "code",
   "execution_count": 5,
   "metadata": {},
   "outputs": [
    {
     "name": "stdout",
     "output_type": "stream",
     "text": [
      "Menu :\n",
      "1. Show RGB Image\n",
      "2. Show HSV Image\n",
      "3. Show H Image\n",
      "4. Show S Image\n",
      "5. Show V Image\n",
      "6. Show HSV Histogram\n",
      "7. Exit\n",
      "\n",
      "Input Pilihan : 6\n"
     ]
    },
    {
     "data": {
      "image/png": "[encoded data removed]",
      "text/plain": [
       "<Figure size 432x288 with 1 Axes>"
      ]
     },
     "metadata": {
      "needs_background": "light"
     },
     "output_type": "display_data"
    },
    {
     "name": "stdout",
     "output_type": "stream",
     "text": [
      "Input Pilihan : 7\n"
     ]
    }
   ],
   "source": [
    "## Main Program\n",
    "\n",
    "my_img, my_hsv, h, s, v = convertToHsv()\n",
    "\n",
    "print('Menu :')\n",
    "print('1. Show RGB Image')\n",
    "print('2. Show HSV Image')\n",
    "print('3. Show H Image')\n",
    "print('4. Show S Image')\n",
    "print('5. Show V Image')\n",
    "print('6. Show HSV Histogram')\n",
    "print('7. Exit\\n')\n",
    "\n",
    "input_menu = int(input(\"Input Pilihan : \"))\n",
    "while(input_menu != 7):\n",
    "    if input_menu == 1:\n",
    "        showImg(my_img, 'RGB Image')\n",
    "    elif input_menu == 2:\n",
    "        showImg(my_hsv, 'HSV Image')\n",
    "    elif input_menu == 3:\n",
    "        showImg(h, 'H Image')\n",
    "    elif input_menu == 4:\n",
    "        showImg(s, 'S Image')\n",
    "    elif input_menu == 5:\n",
    "        showImg(v, 'V Image')\n",
    "    else:\n",
    "        makeHsvHist(my_hsv)\n",
    "        \n",
    "    input_menu = int(input(\"Input Pilihan : \"))"
   ]
  }
 ],
 "metadata": {
  "kernelspec": {
   "display_name": "Python 3",
   "language": "python",
   "name": "python3"
  },
  "language_info": {
   "codemirror_mode": {
    "name": "ipython",
    "version": 3
   },
   "file_extension": ".py",
   "mimetype": "text/x-python",
   "name": "python",
   "nbconvert_exporter": "python",
   "pygments_lexer": "ipython3",
   "version": "3.7.1"
  }
 },
 "nbformat": 4,
 "nbformat_minor": 2
}
