{
 "cells": [
  {
   "cell_type": "markdown",
   "metadata": {},
   "source": [
    "<img src='multimedia.png' width=100px align='left'>"
   ]
  },
  {
   "cell_type": "markdown",
   "metadata": {},
   "source": [
    "## Pengenalan OpenCV dan Pengolahan Citra Digital Part 1"
   ]
  },
  {
   "cell_type": "markdown",
   "metadata": {},
   "source": [
    "Halo! Kali ini kita akan belajar tentang cara menggunakan openCV.\n",
    "Jadi, di python itu ada beberapa package untuk melakukan pengolahan citra digital. Packagenya adalah sebagai berikut\n",
    "1. Skimage\n",
    "2. PIL\n",
    "3. OpenCV (Yang akan dipelajari pada FG Programming)\n",
    "\n",
    "What are you waiting for? Let's Have Fun"
   ]
  },
  {
   "cell_type": "markdown",
   "metadata": {},
   "source": [
    "### Import Package"
   ]
  },
  {
   "cell_type": "markdown",
   "metadata": {},
   "source": [
    "Lakukan import package terlebih dahulu"
   ]
  },
  {
   "cell_type": "code",
   "execution_count": 1,
   "metadata": {},
   "outputs": [],
   "source": [
    "import cv2"
   ]
  },
  {
   "cell_type": "markdown",
   "metadata": {},
   "source": [
    "### Let's Start!"
   ]
  },
  {
   "cell_type": "markdown",
   "metadata": {},
   "source": [
    "Setelah itu marilah kita read satu gambar, cari gambar kemudian masukkan di folder yang sama dengan tempat kamu buat notebook ini"
   ]
  },
  {
   "cell_type": "code",
   "execution_count": 2,
   "metadata": {},
   "outputs": [],
   "source": [
    "#read gambar\n",
    "img = cv2.imread('mortal_combat.JPG')"
   ]
  },
  {
   "cell_type": "code",
   "execution_count": 3,
   "metadata": {},
   "outputs": [
    {
     "name": "stdout",
     "output_type": "stream",
     "text": [
      "Informasi Gambar :  (726, 720, 3)\n"
     ]
    }
   ],
   "source": [
    "# menampilkan informasi pada gambar\n",
    "print('Informasi Gambar : ', img.shape)"
   ]
  },
  {
   "cell_type": "code",
   "execution_count": 4,
   "metadata": {},
   "outputs": [],
   "source": [
    "#tampilkan gambar\n",
    "cv2.imshow('Atta Gledek', img)\n",
    "cv2.waitKey(0)\n",
    "cv2.destroyAllWindows()"
   ]
  },
  {
   "cell_type": "markdown",
   "metadata": {},
   "source": [
    "### Operasi Dasar Citra (Review Materi Pertemuan 1)"
   ]
  },
  {
   "cell_type": "markdown",
   "metadata": {},
   "source": [
    "#### Operasi Warna"
   ]
  },
  {
   "cell_type": "code",
   "execution_count": 5,
   "metadata": {},
   "outputs": [],
   "source": [
    "#ubah gambar dari RGB ke Grayscale \n",
    "img_grayscale = cv2.cvtColor(img, cv2.COLOR_BGR2GRAY)\n",
    "\n",
    "cv2.imshow('Aatta Gledek Grayscale', img_grayscale)\n",
    "cv2.waitKey(0)\n",
    "cv2.destroyAllWindows()"
   ]
  },
  {
   "cell_type": "code",
   "execution_count": 6,
   "metadata": {},
   "outputs": [],
   "source": [
    "#ubah gambar dari RGB ke HSV\n",
    "img_hsv = cv2.cvtColor(img, cv2.COLOR_BGR2HSV)\n",
    "\n",
    "cv2.imshow('Aatta Gledek HSV', img_hsv)\n",
    "cv2.waitKey(0)\n",
    "cv2.destroyAllWindows()"
   ]
  },
  {
   "cell_type": "code",
   "execution_count": 7,
   "metadata": {},
   "outputs": [],
   "source": [
    "#Inverse\n",
    "img_inverse = 255-img\n",
    "#tampilkan gambar\n",
    "cv2.imshow('Aatta Gledek Grayscale', img_inverse)\n",
    "cv2.waitKey(0)\n",
    "cv2.destroyAllWindows()"
   ]
  },
  {
   "cell_type": "code",
   "execution_count": 8,
   "metadata": {},
   "outputs": [],
   "source": [
    "#grayscale to Binary\n",
    "ret, thresh = cv2.threshold(img_grayscale, 125, 255, cv2.THRESH_BINARY)\n",
    "\n",
    "cv2.imshow('Aatta Gledek Binay', thresh)\n",
    "cv2.waitKey(0)\n",
    "cv2.destroyAllWindows()"
   ]
  },
  {
   "cell_type": "markdown",
   "metadata": {},
   "source": [
    "#### Histogram"
   ]
  },
  {
   "cell_type": "code",
   "execution_count": 9,
   "metadata": {},
   "outputs": [
    {
     "data": {
      "text/plain": [
       "<Figure size 640x480 with 1 Axes>"
      ]
     },
     "metadata": {},
     "output_type": "display_data"
    },
    {
     "data": {
      "text/plain": [
       "<Figure size 640x480 with 1 Axes>"
      ]
     },
     "metadata": {},
     "output_type": "display_data"
    },
    {
     "data": {
      "text/plain": [
       "<Figure size 640x480 with 1 Axes>"
      ]
     },
     "metadata": {},
     "output_type": "display_data"
    }
   ],
   "source": [
    "#buat histogram dari gambar tertentu\n",
    "import matplotlib.pyplot as plt\n",
    "\n",
    "# hist = cv2.calcHist([img], [0], None, [256], [0,256])\n",
    "# plt.plot(hist)\n",
    "\n",
    "color = ('b', 'g', 'r')\n",
    "for i,col in enumerate(color):\n",
    "    hist = cv2.calcHist([img], [i], None, [256], [0,256])\n",
    "    plt.plot(hist, color=col)\n",
    "    plt.show()"
   ]
  },
  {
   "cell_type": "markdown",
   "metadata": {},
   "source": [
    "### Operasi Dasar Citra Terbaru"
   ]
  },
  {
   "cell_type": "markdown",
   "metadata": {},
   "source": [
    "#### Mengubah Ukuran Citra (Resize)"
   ]
  },
  {
   "cell_type": "code",
   "execution_count": 15,
   "metadata": {},
   "outputs": [],
   "source": [
    "# Memperbesar ukuran citra\n",
    "\n",
    "# Zoom out\n",
    "width = int(img.shape[1]*2)\n",
    "height = int(img.shape[0]*2)\n",
    "dim = (width, height)\n",
    "\n",
    "resized = cv2.resize(img, dim)\n",
    "cv2.imshow('Resized Image', resized)\n",
    "cv2.waitKey(0)\n",
    "cv2.destroyAllWindows()"
   ]
  },
  {
   "cell_type": "code",
   "execution_count": 16,
   "metadata": {},
   "outputs": [],
   "source": [
    "# Zoom in\n",
    "\n",
    "width = int(img.shape[1]*0.5)\n",
    "height = int(img.shape[0]*0.5)\n",
    "dim = (width, height)\n",
    "\n",
    "resized = cv2.resize(img, dim)\n",
    "cv2.imshow('Resized Image', resized)\n",
    "cv2.waitKey(0)\n",
    "cv2.destroyAllWindows()"
   ]
  },
  {
   "cell_type": "markdown",
   "metadata": {},
   "source": [
    "#### Penggelapan dan Penerangan"
   ]
  },
  {
   "cell_type": "code",
   "execution_count": 11,
   "metadata": {},
   "outputs": [],
   "source": [
    "#penerangan tambah dan kali\n"
   ]
  },
  {
   "cell_type": "code",
   "execution_count": 12,
   "metadata": {},
   "outputs": [],
   "source": [
    "#penggelapan kurang dan bagi\n"
   ]
  },
  {
   "cell_type": "markdown",
   "metadata": {},
   "source": [
    "#### Flip Gambar"
   ]
  },
  {
   "cell_type": "code",
   "execution_count": 17,
   "metadata": {},
   "outputs": [],
   "source": [
    "# Horizontal flip * Vertical flip\n",
    "\n",
    "horizontal_img = cv2.flip(img, 0)\n",
    "vertical_img = cv2.flip(img,1)"
   ]
  },
  {
   "cell_type": "code",
   "execution_count": 19,
   "metadata": {},
   "outputs": [],
   "source": [
    "# Show horizontal flip\n",
    "cv2.imshow('Horizontal Flip', horizontal_img)\n",
    "cv2.waitKey(0)\n",
    "cv2.destroyAllWindows()"
   ]
  },
  {
   "cell_type": "code",
   "execution_count": 20,
   "metadata": {},
   "outputs": [],
   "source": [
    "# Show vertical flip\n",
    "cv2.imshow('Horizontal Flip', vertical_img)\n",
    "cv2.waitKey(0)\n",
    "cv2.destroyAllWindows()"
   ]
  },
  {
   "cell_type": "markdown",
   "metadata": {},
   "source": [
    "#### Rotate Gambar"
   ]
  },
  {
   "cell_type": "code",
   "execution_count": 26,
   "metadata": {},
   "outputs": [],
   "source": [
    "#Memutar Gambar\n",
    "h, w = img.shape[:2]\n",
    "center = (w/2, h/2)\n",
    "rotate = cv2.getRotationMatrix2D(center, 90, 1)\n",
    "rotatingImg = cv2.warpAffine(img, rotate, (w,h))\n",
    "\n",
    "cv2.imshow('Rotate 180p', rotatingImg)\n",
    "cv2.waitKey(0)\n",
    "cv2.destroyAllWindows()"
   ]
  },
  {
   "cell_type": "markdown",
   "metadata": {},
   "source": [
    "#### Konvolusi"
   ]
  },
  {
   "cell_type": "markdown",
   "metadata": {},
   "source": [
    "#### Excercise (Dikerjakan di lab)"
   ]
  },
  {
   "cell_type": "markdown",
   "metadata": {},
   "source": [
    "coba-coba konvolusi dengan kernel untuk edge, blur, sharp"
   ]
  },
  {
   "cell_type": "code",
   "execution_count": 14,
   "metadata": {},
   "outputs": [],
   "source": [
    "# Exercise, coba-coba konvolusi edge blur sharp"
   ]
  }
 ],
 "metadata": {
  "kernelspec": {
   "display_name": "Python 3",
   "language": "python",
   "name": "python3"
  },
  "language_info": {
   "codemirror_mode": {
    "name": "ipython",
    "version": 3
   },
   "file_extension": ".py",
   "mimetype": "text/x-python",
   "name": "python",
   "nbconvert_exporter": "python",
   "pygments_lexer": "ipython3",
   "version": "3.7.1"
  }
 },
 "nbformat": 4,
 "nbformat_minor": 2
}
